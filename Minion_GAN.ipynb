{
  "nbformat": 4,
  "nbformat_minor": 0,
  "metadata": {
    "colab": {
      "name": "Minion GAN.ipynb",
      "provenance": []
    },
    "kernelspec": {
      "name": "python3",
      "display_name": "Python 3"
    },
    "language_info": {
      "name": "python"
    }
  },
  "cells": [
    {
      "cell_type": "code",
      "metadata": {
        "id": "r30jtDkHjT8r"
      },
      "source": [
        "from bs4 import BeautifulSoup\n",
        "import requests\n",
        "import urllib.request\n",
        "\n",
        "from scipy import ndarray\n",
        "import skimage as sk\n",
        "from skimage import transform\n",
        "from skimage import util\n",
        "\n",
        "import numpy as np\n",
        "import random \n",
        "\n",
        "from PIL import Image\n",
        "import cv2\n",
        "\n",
        "from pathlib import Path\n",
        "import os\n",
        "import glob\n",
        "\n",
        "import torch\n",
        "from torch import nn\n",
        "from torch import optim"
      ],
      "execution_count": 2,
      "outputs": []
    },
    {
      "cell_type": "code",
      "metadata": {
        "id": "FgwCi6ObNQTJ"
      },
      "source": [
        "def fix_random_seed(seed):\n",
        "    \"\"\"Ensure reproducible results\"\"\"\n",
        "\n",
        "    random.seed(seed)\n",
        "    np.random.seed(seed)\n",
        "    torch.manual_seed(seed)\n",
        "    if torch.cuda.is_available():\n",
        "        torch.backends.cudnn.deterministic = True\n",
        "        torch.backends.cudnn.benchmark = False\n",
        "\n",
        "seed = 1\n",
        "fix_random_seed(seed)"
      ],
      "execution_count": 13,
      "outputs": []
    },
    {
      "cell_type": "code",
      "metadata": {
        "colab": {
          "base_uri": "https://localhost:8080/"
        },
        "id": "t5ol0FM_k2q5",
        "outputId": "1ab9648d-2206-467a-ebed-5a3d166c4688"
      },
      "source": [
        "# Get information from page of all minions\n",
        "page = requests.get(\"https://despicableme.fandom.com/wiki/Category:Minions?from=A\")\n",
        "page"
      ],
      "execution_count": 3,
      "outputs": [
        {
          "output_type": "execute_result",
          "data": {
            "text/plain": [
              "<Response [200]>"
            ]
          },
          "metadata": {},
          "execution_count": 3
        }
      ]
    },
    {
      "cell_type": "code",
      "metadata": {
        "id": "t8Wj0PbOlNTV"
      },
      "source": [
        "# Get a list of HREFs for each minion page\n",
        "soup = BeautifulSoup(page.content, 'html.parser')\n",
        "minions = soup.find_all('a', class_=\"category-page__member-link\")\n"
      ],
      "execution_count": 4,
      "outputs": []
    },
    {
      "cell_type": "code",
      "metadata": {
        "id": "6XD3qZ3ipbgX"
      },
      "source": [
        "# Get links to page of each minion\n",
        "def get_minion_page(minion_page_link):\n",
        "  src = \"https://despicableme.fandom.com/\"\n",
        "  return src + minion_page_link.get('href')\n",
        "\n",
        "minion_links = map(get_minion_page, minions)  \n",
        "minion_links = list(minion_links)\n",
        "\n"
      ],
      "execution_count": 5,
      "outputs": []
    },
    {
      "cell_type": "code",
      "metadata": {
        "id": "6oghr95Y4Nrx"
      },
      "source": [
        "def make_dir(directory):\n",
        "  Path(directory).mkdir(parents=True, exist_ok=True)"
      ],
      "execution_count": 6,
      "outputs": []
    },
    {
      "cell_type": "code",
      "metadata": {
        "id": "1WzvzGLrhQOy"
      },
      "source": [
        "# Create a folder for minion images and augmented images\n",
        "make_dir(\"/content/minion_imgs\")\n",
        "make_dir(\"/content/augmented_images/\")\n",
        "\n",
        "def get_title_from_path(fname):\n",
        "  start = fname.find(\"/\")\n",
        "  end = fname.find(\".\")\n",
        "  return fname[start+1:end]"
      ],
      "execution_count": 7,
      "outputs": []
    },
    {
      "cell_type": "code",
      "metadata": {
        "id": "Q-gIiTCWtWKc"
      },
      "source": [
        "# For each Minion page, get Minion thumbnail\n",
        "for page in minion_links:\n",
        "\n",
        "  page = requests.get(page)\n",
        "  soup = BeautifulSoup(page.content, 'html.parser')\n",
        "\n",
        "  #Thumbnail Link\n",
        "  img_link = soup.find('a', class_=\"image image-thumbnail\")\n",
        "  \n",
        "  if img_link is None:\n",
        "    continue\n",
        "  \n",
        "  img_link = img_link.get('href')\n",
        "  \n",
        "  #Image title\n",
        "  title = soup.find('h1', class_=\"page-header__title\")\n",
        "  title = title.get_text().strip()\n",
        "  \n",
        "  save_dir = \"/content/minion_imgs/\" + title + \".jpg\"\n",
        "\n",
        "  urllib.request.urlretrieve(img_link, save_dir)"
      ],
      "execution_count": 8,
      "outputs": []
    },
    {
      "cell_type": "code",
      "metadata": {
        "id": "41zb1TnVB_oW"
      },
      "source": [
        "for dir in glob.glob(\"minion_imgs/*\"):\n",
        "  try:\n",
        "    im = Image.open(dir)\n",
        "    im.resize((600, 400), Image.BICUBIC)\n",
        "    title = get_title_from_path(dir)\n",
        "    im.save(\"/content/minion_imgs/\" + title + \".png\")\n",
        "    os.remove(\"/content/minion_imgs/\" + title + \".jpg\")\n",
        "  except:\n",
        "    os.remove(dir)\n",
        "  \n",
        "   "
      ],
      "execution_count": 46,
      "outputs": []
    },
    {
      "cell_type": "code",
      "metadata": {
        "id": "H3E1V2OkDVkK"
      },
      "source": [
        "#Image Transofrmation functions\n",
        "\n",
        "def get_rand_binary():\n",
        "  return random.choice([0, 1])\n",
        "\n",
        "def random_rotation(image_array: ndarray):\n",
        "    # pick a random degree of rotation between 25% on the left and 25% on the right\n",
        "    random_degree = random.uniform(-25, 25)\n",
        "    return sk.transform.rotate(image_array, random_degree)\n",
        "\n",
        "def add_random_noise(image_array: ndarray):\n",
        "    # add random noise to the image\n",
        "    return sk.util.random_noise(image_array)\n",
        "\n",
        "def horizontal_flip(image_array: ndarray):\n",
        "    # horizontal flip doesn't need skimage, it's easy as flipping the image array of pixels !\n",
        "    return image_array[:, ::-1]\n",
        "    \n",
        "def augment_image(image_array: ndarray):\n",
        "  im = image_array\n",
        "  \n",
        "  rotate_im = get_rand_binary()\n",
        "  if rotate_im:\n",
        "    im = random_rotation(im)\n",
        "  \n",
        "  add_noise = get_rand_binary()\n",
        "  if add_noise:\n",
        "    im = add_random_noise(im)\n",
        "  \n",
        "  flip_image = get_rand_binary()\n",
        "  if flip_image:\n",
        "    im = horizontal_flip(im)\n",
        "  \n",
        "  return im\n",
        "\n"
      ],
      "execution_count": 10,
      "outputs": []
    },
    {
      "cell_type": "code",
      "metadata": {
        "colab": {
          "base_uri": "https://localhost:8080/"
        },
        "id": "yxOKePUyBPG8",
        "outputId": "bdd504ff-5882-4fa4-dbbe-a2cf9347f76f"
      },
      "source": [
        "# Create list containing numpy representations of the images and their titles\n",
        "\n",
        "image_list = []\n",
        "image_titles = []\n",
        "\n",
        "def get_title_from_path(fname):\n",
        "  start = fname.find(\"/\")\n",
        "  end = fname.find(\".\")\n",
        "  return fname[start+1:end]\n",
        "\n",
        "for filename in sorted(glob.glob('minion_imgs/*.png')):\n",
        "  im=Image.open(filename)\n",
        "  image_list.append(np.asarray(im))\n",
        "  im_title = get_title_from_path(filename)\n",
        "  image_titles.append(im_title)\n",
        "\n",
        "print(image_titles)"
      ],
      "execution_count": 11,
      "outputs": [
        {
          "output_type": "stream",
          "name": "stdout",
          "text": [
            "['Barry', 'Bill (Training wheels)', 'Bob (Despicable Me)', 'Bob (orientation day)', 'Bob', 'Brian', 'Buck', 'Carl (Despicable Me)', 'Carl', 'Charlie', 'Darwin', 'Dave (Minions)', 'Dave', 'Disco Minion Costume', 'Donnie', 'Donny (Despicable Me 2)', 'Evil Minions', 'Fred (Minions)', 'Jerry', 'Joe', 'John', 'Jon', 'Jorge', 'Ken (Minions Paradise)', 'Ken (Minions)', 'Ken', 'Kevin (Orientation Day)', 'Kevin', 'Lance', 'Larry', 'Lewis', 'Mack', 'Mark', 'Mel', 'Mike', 'Minions', 'Norbert', 'Otto', 'Partier Minion Costume', 'Paul (Minion Rush)', 'Paul', 'Peter', 'Phil (Despicable Me)', 'Phil', 'Steve', 'Stuart', 'The Jelly Jar Minion', 'Tim', 'Tom', 'Traveling Sales Minion']\n"
          ]
        }
      ]
    },
    {
      "cell_type": "code",
      "metadata": {
        "id": "4AfPIOt5l9tb"
      },
      "source": [
        "# Create augmented images and add them to folder\n",
        "\n",
        "num_skews_per_original = 5\n",
        "\n",
        "def get_title(image_title, skew_no):\n",
        "  num = str(skew_no)\n",
        "  \n",
        "  if skew_no < 10:\n",
        "    num = \"0\" + num\n",
        "    \n",
        "  return image_title + \"_\" + num + \".png\"\n",
        "\n",
        "for j, image in enumerate(image_list):\n",
        "  for i in range(num_skews_per_original):\n",
        "\n",
        "    augmented_im = augment_image(image)\n",
        "   \n",
        "    augmented_im = Image.fromarray((augmented_im * 255).astype(np.uint8))\n",
        "    title = get_title(image_titles[j], i)\n",
        "    augmented_im.save(\"/content/augmented_images/\"+ title)\n",
        "    \n"
      ],
      "execution_count": 12,
      "outputs": []
    },
    {
      "cell_type": "code",
      "metadata": {
        "id": "W-CScyWVBCXy"
      },
      "source": [
        "def batch_order(num_samples, shuffle=True):\n",
        "  shuffle_order = np.arange(num_augmentations)\n",
        "  if shuffle:\n",
        "    random.shuffle(shuffle_order)\n",
        "  return shuffle_order\n",
        "\n",
        "num_augmentations = len(glob.glob('augmented_images/*.png'))\n",
        "shuffle_samples = True # Set to true to ensure that batches have augmentations from multiple different minions\n",
        "\n",
        "shuffle_order = batch_order(num_augmentations, shuffle=shuffle_samples)\n",
        "\n",
        "def get_num_batches(fname, batch_size):\n",
        "  images = glob.glob(fname+\"*\")\n",
        "  num_images = len(images)\n",
        "  return num_images / batch_size if num_images % batch_size == 0 else num_images / batch_size + 1\n",
        "\n",
        "\n",
        "def get_images_from_folder(fname):\n",
        "  images = glob.glob(fname+\"*\")\n",
        "  num_images = len(images)\n",
        "  return get_images_from_folder_batch(fname, num_images, 1)\n",
        "\n",
        "def get_images_from_folder_batch(fname, batch_size, batch_no):\n",
        "  image_arr = []\n",
        "\n",
        "  images = np.array(glob.glob(fname+\"*\"))\n",
        "  start = (batch_no-1)*batch_size\n",
        "  end = min(batch_no*batch_size, len(images))\n",
        "\n",
        "  indices = np.array(shuffle_order[start:end]).astype(int)\n",
        "  if start >= len(images):\n",
        "    return image_arr\n",
        "\n",
        "  batch = images[indices]\n",
        "\n",
        "  for im in batch:\n",
        "    image_arr.append(np.asarray(Image.open(im)))\n",
        "\n",
        "  return image_arr\n",
        "# Load augmented images from folder, add to list\n",
        "augmented_images = get_images_from_folder_batch(\"/content/augmented_images/\", 20, 1)\n"
      ],
      "execution_count": 16,
      "outputs": []
    },
    {
      "cell_type": "code",
      "metadata": {
        "id": "87nnIrWENp5f"
      },
      "source": [
        "class Generator(nn.Module):\n",
        "  def __init__(self, nz=100, ngf=500, nc=400):\n",
        "    super().__init__()\n",
        "    # Other initialization stuff, add any nn sequentials \n",
        "    self.cnn1 = nn.Sequential(\n",
        "      nn.ConvTranspose2d( nz, ngf * 8, 4, 1, 0, bias=False),\n",
        "      nn.BatchNorm2d(ngf * 8),\n",
        "      nn.ReLU(True),\n",
        "      nn.ConvTranspose2d(ngf * 8, ngf * 4, 4, 2, 1, bias=False),\n",
        "      nn.BatchNorm2d(ngf * 4),\n",
        "      nn.ReLU(True),\n",
        "      nn.ConvTranspose2d( ngf * 4, ngf * 2, 4, 2, 1, bias=False),\n",
        "      nn.BatchNorm2d(ngf * 2),\n",
        "      nn.ReLU(True),\n",
        "      nn.ConvTranspose2d( ngf * 2, ngf, 4, 2, 1, bias=False),\n",
        "      nn.BatchNorm2d(ngf),\n",
        "      nn.ReLU(True),\n",
        "      nn.ConvTranspose2d( ngf, nc, 4, 2, 1, bias=False),\n",
        "      nn.Tanh()\n",
        "  )\n",
        "    \n",
        "    self.cnn = nn.Sequential(\n",
        "      nn.ConvTranspose2d( nz, ngf * 8, 4, 1, 0, bias=False),\n",
        "      nn.BatchNorm2d(ngf * 8),\n",
        "      nn.ReLU(True),\n",
        "      nn.ConvTranspose2d(ngf * 8, ngf * 4, 4, 2, 1, bias=False),\n",
        "      nn.BatchNorm2d(ngf * 4),\n",
        "      nn.ReLU(True),\n",
        "      nn.ConvTranspose2d( ngf * 4, ngf * 2, 4, 2, 1, bias=False),\n",
        "      nn.BatchNorm2d(ngf * 2),\n",
        "      nn.ReLU(True),\n",
        "      nn.ConvTranspose2d( ngf * 2, ngf, 4, 2, 1, bias=False),\n",
        "      nn.BatchNorm2d(ngf),\n",
        "      nn.ReLU(True),\n",
        "      nn.ConvTranspose2d( ngf, nc, 4, 2, 1, bias=False),\n",
        "      nn.Tanh()\n",
        "  )\n",
        "  \n",
        "    def init_weights(m):\n",
        "      if isinstance(m, nn.ConvTranspose2d):\n",
        "          torch.nn.init.xavier_normal_(m.weight, gain=10)\n",
        "          \n",
        "    self.cnn.apply(init_weights)\n",
        "    self.cnn1.apply(init_weights)\n",
        "\n",
        "  def forward(self, init_vec):\n",
        "    \n",
        "    generated = self.cnn(init_vec)\n",
        "    print(generated.shape)\n",
        "\n",
        "    return generated"
      ],
      "execution_count": 131,
      "outputs": []
    },
    {
      "cell_type": "code",
      "metadata": {
        "id": "4_waLcapgZNS"
      },
      "source": [
        "class Descriminator(nn.Module):\n",
        "  def __init__(self):\n",
        "    super().__init__()\n",
        "    # Other initialization stuff, add any nn sequentials here\n",
        "\n",
        "    self.init_weights(nn.init.kaiming_uniform_)\n",
        "\n",
        "  def init_weights(self, init_fn):\n",
        "    def init(m):\n",
        "      for child in m.children():\n",
        "        init_fn(child.weights)\n",
        "    init(self)    \n",
        "\n",
        "  def forward(self, real_data, fake_data):\n",
        "    return "
      ],
      "execution_count": 60,
      "outputs": []
    },
    {
      "cell_type": "code",
      "metadata": {
        "colab": {
          "base_uri": "https://localhost:8080/",
          "height": 595
        },
        "id": "pOIvNtB9N9uO",
        "outputId": "5b72c2ae-d2db-4abd-e1dc-df0da34e52de"
      },
      "source": [
        "n_epochs = 10\n",
        "generator = Generator()\n",
        "generator.eval()\n",
        "response = generator(torch.ones((1,100, 1, 1)))\n",
        "im=Image.open(\"/content/augmented_images/Barry_00.png\")\n",
        "im=np.asarray(im)\n",
        "print(im.shape)\n",
        "print(response.shape)\n",
        "response = response.detach().numpy()\n",
        "print((response[0] * 255).astype(np.uint8))\n",
        "augmented_im.save(\"/content/test.png\")\n",
        "\n",
        "# Step 1: Train Descriminator on real data for n epochs\n",
        "# Step 2: Generate fake inputs for generator and train discriminator on fake data"
      ],
      "execution_count": 132,
      "outputs": [
        {
          "output_type": "stream",
          "name": "stdout",
          "text": [
            "torch.Size([1, 400, 64, 64])\n",
            "(790, 756, 3)\n",
            "torch.Size([1, 400, 64, 64])\n"
          ]
        },
        {
          "output_type": "error",
          "ename": "TypeError",
          "evalue": "ignored",
          "traceback": [
            "\u001b[0;31m---------------------------------------------------------------------------\u001b[0m",
            "\u001b[0;31mKeyError\u001b[0m                                  Traceback (most recent call last)",
            "\u001b[0;32m/usr/local/lib/python3.7/dist-packages/PIL/Image.py\u001b[0m in \u001b[0;36mfromarray\u001b[0;34m(obj, mode)\u001b[0m\n\u001b[1;32m   2713\u001b[0m         \u001b[0;32mtry\u001b[0m\u001b[0;34m:\u001b[0m\u001b[0;34m\u001b[0m\u001b[0;34m\u001b[0m\u001b[0m\n\u001b[0;32m-> 2714\u001b[0;31m             \u001b[0mmode\u001b[0m\u001b[0;34m,\u001b[0m \u001b[0mrawmode\u001b[0m \u001b[0;34m=\u001b[0m \u001b[0m_fromarray_typemap\u001b[0m\u001b[0;34m[\u001b[0m\u001b[0mtypekey\u001b[0m\u001b[0;34m]\u001b[0m\u001b[0;34m\u001b[0m\u001b[0;34m\u001b[0m\u001b[0m\n\u001b[0m\u001b[1;32m   2715\u001b[0m         \u001b[0;32mexcept\u001b[0m \u001b[0mKeyError\u001b[0m\u001b[0;34m:\u001b[0m\u001b[0;34m\u001b[0m\u001b[0;34m\u001b[0m\u001b[0m\n",
            "\u001b[0;31mKeyError\u001b[0m: ((1, 1, 64), '|u1')",
            "\nDuring handling of the above exception, another exception occurred:\n",
            "\u001b[0;31mTypeError\u001b[0m                                 Traceback (most recent call last)",
            "\u001b[0;32m<ipython-input-132-ab19db7f0d17>\u001b[0m in \u001b[0;36m<module>\u001b[0;34m()\u001b[0m\n\u001b[1;32m      8\u001b[0m \u001b[0mprint\u001b[0m\u001b[0;34m(\u001b[0m\u001b[0mresponse\u001b[0m\u001b[0;34m.\u001b[0m\u001b[0mshape\u001b[0m\u001b[0;34m)\u001b[0m\u001b[0;34m\u001b[0m\u001b[0;34m\u001b[0m\u001b[0m\n\u001b[1;32m      9\u001b[0m \u001b[0mresponse\u001b[0m \u001b[0;34m=\u001b[0m \u001b[0mresponse\u001b[0m\u001b[0;34m.\u001b[0m\u001b[0mdetach\u001b[0m\u001b[0;34m(\u001b[0m\u001b[0;34m)\u001b[0m\u001b[0;34m.\u001b[0m\u001b[0mnumpy\u001b[0m\u001b[0;34m(\u001b[0m\u001b[0;34m)\u001b[0m\u001b[0;34m\u001b[0m\u001b[0;34m\u001b[0m\u001b[0m\n\u001b[0;32m---> 10\u001b[0;31m \u001b[0maugmented_im\u001b[0m \u001b[0;34m=\u001b[0m \u001b[0mImage\u001b[0m\u001b[0;34m.\u001b[0m\u001b[0mfromarray\u001b[0m\u001b[0;34m(\u001b[0m\u001b[0;34m(\u001b[0m\u001b[0mresponse\u001b[0m\u001b[0;34m[\u001b[0m\u001b[0;36m0\u001b[0m\u001b[0;34m]\u001b[0m \u001b[0;34m*\u001b[0m \u001b[0;36m255\u001b[0m\u001b[0;34m)\u001b[0m\u001b[0;34m.\u001b[0m\u001b[0mastype\u001b[0m\u001b[0;34m(\u001b[0m\u001b[0mnp\u001b[0m\u001b[0;34m.\u001b[0m\u001b[0muint8\u001b[0m\u001b[0;34m)\u001b[0m\u001b[0;34m)\u001b[0m\u001b[0;34m\u001b[0m\u001b[0;34m\u001b[0m\u001b[0m\n\u001b[0m\u001b[1;32m     11\u001b[0m \u001b[0mprint\u001b[0m\u001b[0;34m(\u001b[0m\u001b[0;34m(\u001b[0m\u001b[0mresponse\u001b[0m\u001b[0;34m[\u001b[0m\u001b[0;36m0\u001b[0m\u001b[0;34m]\u001b[0m \u001b[0;34m*\u001b[0m \u001b[0;36m255\u001b[0m\u001b[0;34m)\u001b[0m\u001b[0;34m.\u001b[0m\u001b[0mastype\u001b[0m\u001b[0;34m(\u001b[0m\u001b[0mnp\u001b[0m\u001b[0;34m.\u001b[0m\u001b[0muint8\u001b[0m\u001b[0;34m)\u001b[0m\u001b[0;34m)\u001b[0m\u001b[0;34m\u001b[0m\u001b[0;34m\u001b[0m\u001b[0m\n\u001b[1;32m     12\u001b[0m \u001b[0maugmented_im\u001b[0m\u001b[0;34m.\u001b[0m\u001b[0msave\u001b[0m\u001b[0;34m(\u001b[0m\u001b[0;34m\"/content/test.png\"\u001b[0m\u001b[0;34m)\u001b[0m\u001b[0;34m\u001b[0m\u001b[0;34m\u001b[0m\u001b[0m\n",
            "\u001b[0;32m/usr/local/lib/python3.7/dist-packages/PIL/Image.py\u001b[0m in \u001b[0;36mfromarray\u001b[0;34m(obj, mode)\u001b[0m\n\u001b[1;32m   2714\u001b[0m             \u001b[0mmode\u001b[0m\u001b[0;34m,\u001b[0m \u001b[0mrawmode\u001b[0m \u001b[0;34m=\u001b[0m \u001b[0m_fromarray_typemap\u001b[0m\u001b[0;34m[\u001b[0m\u001b[0mtypekey\u001b[0m\u001b[0;34m]\u001b[0m\u001b[0;34m\u001b[0m\u001b[0;34m\u001b[0m\u001b[0m\n\u001b[1;32m   2715\u001b[0m         \u001b[0;32mexcept\u001b[0m \u001b[0mKeyError\u001b[0m\u001b[0;34m:\u001b[0m\u001b[0;34m\u001b[0m\u001b[0;34m\u001b[0m\u001b[0m\n\u001b[0;32m-> 2716\u001b[0;31m             \u001b[0;32mraise\u001b[0m \u001b[0mTypeError\u001b[0m\u001b[0;34m(\u001b[0m\u001b[0;34m\"Cannot handle this data type: %s, %s\"\u001b[0m \u001b[0;34m%\u001b[0m \u001b[0mtypekey\u001b[0m\u001b[0;34m)\u001b[0m\u001b[0;34m\u001b[0m\u001b[0;34m\u001b[0m\u001b[0m\n\u001b[0m\u001b[1;32m   2717\u001b[0m     \u001b[0;32melse\u001b[0m\u001b[0;34m:\u001b[0m\u001b[0;34m\u001b[0m\u001b[0;34m\u001b[0m\u001b[0m\n\u001b[1;32m   2718\u001b[0m         \u001b[0mrawmode\u001b[0m \u001b[0;34m=\u001b[0m \u001b[0mmode\u001b[0m\u001b[0;34m\u001b[0m\u001b[0;34m\u001b[0m\u001b[0m\n",
            "\u001b[0;31mTypeError\u001b[0m: Cannot handle this data type: (1, 1, 64), |u1"
          ]
        }
      ]
    }
  ]
}